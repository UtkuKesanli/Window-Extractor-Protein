{
 "cells": [
  {
   "cell_type": "code",
   "execution_count": 5,
   "metadata": {},
   "outputs": [
    {
     "name": "stdout",
     "output_type": "stream",
     "text": [
      "What do you want with window extraxtor protein? Press a number\n",
      "\n",
      "[0] for get subsequence\n",
      "\n",
      "[1] for get uppercase\n",
      "\n",
      "[2] for get lowercase\n",
      "\n",
      "--------------------\n",
      "\n",
      "The sequance is: asdfghjklmnbvcxzqwertyuop\n",
      "\n",
      "The result is: JKLMNB\n",
      "\n",
      "--------------------\n"
     ]
    }
   ],
   "source": [
    "# Define the parameters\n",
    "sequence = str(input(\"Enter a protein sequences or FASTA sequence: \"))\n",
    "window_size = int(input(\"Enter a window size: \"))\n",
    "position = int(input(\"Enter starting position: \"))\n",
    "print(\"What do you want with window extraxtor protein? Press a number\\n\")\n",
    "print(\"[0] for get subsequence\\n\")\n",
    "print(\"[1] for get uppercase\\n\")\n",
    "print(\"[2] for get lowercase\\n\")\n",
    "event = int(input(\"\"))\n",
    "result = \"\"\n",
    "\n",
    "# A function for all window extractor protein works\n",
    "def window_extractor(bio_array, window_length, array_position, event_number, sequence_result):\n",
    "  \n",
    "  # First for getting subsequence \n",
    "  if event_number == 0:\n",
    "    sequence_result = bio_array[array_position:(window_length + array_position)]\n",
    "  # Second for getting uppercase\n",
    "  elif event_number == 1:\n",
    "    sequence_result = bio_array[array_position:(window_length + array_position)].upper()\n",
    "  # Third for getting lowercase\n",
    "  else:\n",
    "    sequence_result = bio_array[array_position:(window_length + array_position)].lower()\n",
    "  return sequence_result\n",
    "\n",
    "result = window_extractor(sequence, window_size, position, event, result)\n",
    "\n",
    "# Print sequence and result\n",
    "print(\"-\"*20)\n",
    "print(\"\\nThe sequance is: \" + sequence)\n",
    "print(\"\\nThe result is: \" + result)\n",
    "print(\"\\n\" + \"-\"*20)"
   ]
  }
 ],
 "metadata": {
  "kernelspec": {
   "display_name": "Python 3",
   "language": "python",
   "name": "python3"
  },
  "language_info": {
   "codemirror_mode": {
    "name": "ipython",
    "version": 3
   },
   "file_extension": ".py",
   "mimetype": "text/x-python",
   "name": "python",
   "nbconvert_exporter": "python",
   "pygments_lexer": "ipython3",
   "version": "3.12.0"
  }
 },
 "nbformat": 4,
 "nbformat_minor": 2
}
